{
 "cells": [
  {
   "cell_type": "code",
   "execution_count": 1,
   "id": "f50ace5e",
   "metadata": {},
   "outputs": [],
   "source": [
    "import fastf1\n",
    "import pandas as pd\n",
    "from scipy import signal\n",
    "import numpy as np"
   ]
  },
  {
   "cell_type": "code",
   "execution_count": null,
   "id": "1901d055",
   "metadata": {
    "scrolled": true
   },
   "outputs": [],
   "source": [
    "session = fastf1.get_session(2023, \"Azerbaijan Grand Prix\", \"R\")\n",
    "session.load()"
   ]
  },
  {
   "cell_type": "code",
   "execution_count": 3,
   "id": "4e683cdb",
   "metadata": {},
   "outputs": [],
   "source": [
    "lap = session.laps.loc[session.laps.index == 182]"
   ]
  },
  {
   "cell_type": "code",
   "execution_count": 4,
   "id": "eb706718",
   "metadata": {},
   "outputs": [
    {
     "data": {
      "text/html": [
       "<div>\n",
       "<style scoped>\n",
       "    .dataframe tbody tr th:only-of-type {\n",
       "        vertical-align: middle;\n",
       "    }\n",
       "\n",
       "    .dataframe tbody tr th {\n",
       "        vertical-align: top;\n",
       "    }\n",
       "\n",
       "    .dataframe thead th {\n",
       "        text-align: right;\n",
       "    }\n",
       "</style>\n",
       "<table border=\"1\" class=\"dataframe\">\n",
       "  <thead>\n",
       "    <tr style=\"text-align: right;\">\n",
       "      <th></th>\n",
       "      <th>Time</th>\n",
       "      <th>DriverNumber</th>\n",
       "      <th>LapTime</th>\n",
       "      <th>LapNumber</th>\n",
       "      <th>PitOutTime</th>\n",
       "      <th>PitInTime</th>\n",
       "      <th>Sector1Time</th>\n",
       "      <th>Sector2Time</th>\n",
       "      <th>Sector3Time</th>\n",
       "      <th>Sector1SessionTime</th>\n",
       "      <th>...</th>\n",
       "      <th>Compound</th>\n",
       "      <th>TyreLife</th>\n",
       "      <th>FreshTyre</th>\n",
       "      <th>Stint</th>\n",
       "      <th>LapStartTime</th>\n",
       "      <th>Team</th>\n",
       "      <th>Driver</th>\n",
       "      <th>TrackStatus</th>\n",
       "      <th>IsAccurate</th>\n",
       "      <th>LapStartDate</th>\n",
       "    </tr>\n",
       "  </thead>\n",
       "  <tbody>\n",
       "    <tr>\n",
       "      <th>182</th>\n",
       "      <td>0 days 01:59:16.304000</td>\n",
       "      <td>14</td>\n",
       "      <td>0 days 00:01:45.691000</td>\n",
       "      <td>30</td>\n",
       "      <td>NaT</td>\n",
       "      <td>NaT</td>\n",
       "      <td>0 days 00:00:37.445000</td>\n",
       "      <td>0 days 00:00:42.884000</td>\n",
       "      <td>0 days 00:00:25.362000</td>\n",
       "      <td>0 days 01:58:08.058000</td>\n",
       "      <td>...</td>\n",
       "      <td>HARD</td>\n",
       "      <td>19.0</td>\n",
       "      <td>False</td>\n",
       "      <td>2</td>\n",
       "      <td>0 days 01:57:30.613000</td>\n",
       "      <td>Aston Martin</td>\n",
       "      <td>ALO</td>\n",
       "      <td>1</td>\n",
       "      <td>True</td>\n",
       "      <td>2023-04-30 11:58:32.083</td>\n",
       "    </tr>\n",
       "  </tbody>\n",
       "</table>\n",
       "<p>1 rows × 27 columns</p>\n",
       "</div>"
      ],
      "text/plain": [
       "                      Time DriverNumber                LapTime  LapNumber  \\\n",
       "182 0 days 01:59:16.304000           14 0 days 00:01:45.691000         30   \n",
       "\n",
       "    PitOutTime PitInTime            Sector1Time            Sector2Time  \\\n",
       "182        NaT       NaT 0 days 00:00:37.445000 0 days 00:00:42.884000   \n",
       "\n",
       "               Sector3Time     Sector1SessionTime  ... Compound TyreLife  \\\n",
       "182 0 days 00:00:25.362000 0 days 01:58:08.058000  ...     HARD     19.0   \n",
       "\n",
       "     FreshTyre  Stint           LapStartTime          Team  Driver  \\\n",
       "182      False      2 0 days 01:57:30.613000  Aston Martin     ALO   \n",
       "\n",
       "    TrackStatus  IsAccurate            LapStartDate  \n",
       "182           1        True 2023-04-30 11:58:32.083  \n",
       "\n",
       "[1 rows x 27 columns]"
      ]
     },
     "execution_count": 4,
     "metadata": {},
     "output_type": "execute_result"
    }
   ],
   "source": [
    "lap"
   ]
  },
  {
   "cell_type": "code",
   "execution_count": 5,
   "id": "ee211cac",
   "metadata": {},
   "outputs": [],
   "source": [
    "pos_data = lap.get_pos_data()\n",
    "pos_data = pos_data[\"X\"]\n",
    "pos_data /= 10"
   ]
  },
  {
   "cell_type": "code",
   "execution_count": 6,
   "id": "3d4193e2",
   "metadata": {},
   "outputs": [],
   "source": [
    "pos_data = pos_data.to_numpy()"
   ]
  },
  {
   "cell_type": "code",
   "execution_count": 7,
   "id": "86db9009",
   "metadata": {},
   "outputs": [],
   "source": [
    "def plot(pos_data, window_length, polyorder):\n",
    "    smooth = signal.savgol_filter(pos_data, window_length=window_length, polyorder=polyorder, mode=\"nearest\")\n",
    "    smooth = pd.DataFrame(smooth)\n",
    "    smooth.plot()"
   ]
  },
  {
   "cell_type": "code",
   "execution_count": 8,
   "id": "14d0d9d3",
   "metadata": {},
   "outputs": [
    {
     "data": {
      "text/plain": [
       "<Axes: >"
      ]
     },
     "execution_count": 8,
     "metadata": {},
     "output_type": "execute_result"
    },
    {
     "data": {
      "image/png": "[encoded data removed]",
      "text/plain": [
       "<Figure size 640x480 with 1 Axes>"
      ]
     },
     "metadata": {},
     "output_type": "display_data"
    }
   ],
   "source": [
    "raw = pd.DataFrame(pos_data)\n",
    "raw.plot()"
   ]
  },
  {
   "cell_type": "code",
   "execution_count": 14,
   "id": "d3678a97",
   "metadata": {
    "scrolled": false
   },
   "outputs": [
    {
     "data": {
      "text/plain": [
       "<Axes: >"
      ]
     },
     "execution_count": 14,
     "metadata": {},
     "output_type": "execute_result"
    },
    {
     "data": {
      "image/png": "[encoded data removed]",
      "text/plain": [
       "<Figure size 640x480 with 1 Axes>"
      ]
     },
     "metadata": {},
     "output_type": "display_data"
    }
   ],
   "source": [
    "naiive_conv = np.convolve(pos_data, [0.1,0.1,0.1,0.1,0.1,0.1,0.1,0.1,0.1,0.1], mode=\"full\")\n",
    "naiive_conv = pd.DataFrame(naiive_conv)\n",
    "naiive_conv.plot()"
   ]
  },
  {
   "cell_type": "code",
   "execution_count": 28,
   "id": "2360211c",
   "metadata": {},
   "outputs": [
    {
     "data": {
      "image/png": "[encoded data removed]",
      "text/plain": [
       "<Figure size 640x480 with 1 Axes>"
      ]
     },
     "metadata": {},
     "output_type": "display_data"
    }
   ],
   "source": [
    "plot(pos_data, window_length=10, polyorder=2)"
   ]
  },
  {
   "cell_type": "code",
   "execution_count": 10,
   "id": "11a4663b",
   "metadata": {},
   "outputs": [
    {
     "data": {
      "text/html": [
       "<div>\n",
       "<style scoped>\n",
       "    .dataframe tbody tr th:only-of-type {\n",
       "        vertical-align: middle;\n",
       "    }\n",
       "\n",
       "    .dataframe tbody tr th {\n",
       "        vertical-align: top;\n",
       "    }\n",
       "\n",
       "    .dataframe thead th {\n",
       "        text-align: right;\n",
       "    }\n",
       "</style>\n",
       "<table border=\"1\" class=\"dataframe\">\n",
       "  <thead>\n",
       "    <tr style=\"text-align: right;\">\n",
       "      <th></th>\n",
       "      <th>0</th>\n",
       "    </tr>\n",
       "  </thead>\n",
       "  <tbody>\n",
       "    <tr>\n",
       "      <th>0</th>\n",
       "      <td>137.3</td>\n",
       "    </tr>\n",
       "    <tr>\n",
       "      <th>1</th>\n",
       "      <td>162.0</td>\n",
       "    </tr>\n",
       "    <tr>\n",
       "      <th>2</th>\n",
       "      <td>186.6</td>\n",
       "    </tr>\n",
       "    <tr>\n",
       "      <th>3</th>\n",
       "      <td>211.2</td>\n",
       "    </tr>\n",
       "    <tr>\n",
       "      <th>4</th>\n",
       "      <td>225.9</td>\n",
       "    </tr>\n",
       "    <tr>\n",
       "      <th>...</th>\n",
       "      <td>...</td>\n",
       "    </tr>\n",
       "    <tr>\n",
       "      <th>401</th>\n",
       "      <td>-0.7</td>\n",
       "    </tr>\n",
       "    <tr>\n",
       "      <th>402</th>\n",
       "      <td>14.4</td>\n",
       "    </tr>\n",
       "    <tr>\n",
       "      <th>403</th>\n",
       "      <td>27.7</td>\n",
       "    </tr>\n",
       "    <tr>\n",
       "      <th>404</th>\n",
       "      <td>62.8</td>\n",
       "    </tr>\n",
       "    <tr>\n",
       "      <th>405</th>\n",
       "      <td>91.5</td>\n",
       "    </tr>\n",
       "  </tbody>\n",
       "</table>\n",
       "<p>406 rows × 1 columns</p>\n",
       "</div>"
      ],
      "text/plain": [
       "         0\n",
       "0    137.3\n",
       "1    162.0\n",
       "2    186.6\n",
       "3    211.2\n",
       "4    225.9\n",
       "..     ...\n",
       "401   -0.7\n",
       "402   14.4\n",
       "403   27.7\n",
       "404   62.8\n",
       "405   91.5\n",
       "\n",
       "[406 rows x 1 columns]"
      ]
     },
     "execution_count": 10,
     "metadata": {},
     "output_type": "execute_result"
    }
   ],
   "source": [
    "pd.DataFrame(pos_data)"
   ]
  },
  {
   "cell_type": "code",
   "execution_count": 11,
   "id": "bdcfd038",
   "metadata": {},
   "outputs": [
    {
     "data": {
      "text/html": [
       "<div>\n",
       "<style scoped>\n",
       "    .dataframe tbody tr th:only-of-type {\n",
       "        vertical-align: middle;\n",
       "    }\n",
       "\n",
       "    .dataframe tbody tr th {\n",
       "        vertical-align: top;\n",
       "    }\n",
       "\n",
       "    .dataframe thead th {\n",
       "        text-align: right;\n",
       "    }\n",
       "</style>\n",
       "<table border=\"1\" class=\"dataframe\">\n",
       "  <thead>\n",
       "    <tr style=\"text-align: right;\">\n",
       "      <th></th>\n",
       "      <th>0</th>\n",
       "    </tr>\n",
       "  </thead>\n",
       "  <tbody>\n",
       "    <tr>\n",
       "      <th>0</th>\n",
       "      <td>156.532500</td>\n",
       "    </tr>\n",
       "    <tr>\n",
       "      <th>1</th>\n",
       "      <td>167.838125</td>\n",
       "    </tr>\n",
       "    <tr>\n",
       "      <th>2</th>\n",
       "      <td>189.797500</td>\n",
       "    </tr>\n",
       "    <tr>\n",
       "      <th>3</th>\n",
       "      <td>219.648125</td>\n",
       "    </tr>\n",
       "    <tr>\n",
       "      <th>4</th>\n",
       "      <td>251.687500</td>\n",
       "    </tr>\n",
       "    <tr>\n",
       "      <th>...</th>\n",
       "      <td>...</td>\n",
       "    </tr>\n",
       "    <tr>\n",
       "      <th>401</th>\n",
       "      <td>5.068125</td>\n",
       "    </tr>\n",
       "    <tr>\n",
       "      <th>402</th>\n",
       "      <td>30.053750</td>\n",
       "    </tr>\n",
       "    <tr>\n",
       "      <th>403</th>\n",
       "      <td>52.070625</td>\n",
       "    </tr>\n",
       "    <tr>\n",
       "      <th>404</th>\n",
       "      <td>69.403125</td>\n",
       "    </tr>\n",
       "    <tr>\n",
       "      <th>405</th>\n",
       "      <td>82.741875</td>\n",
       "    </tr>\n",
       "  </tbody>\n",
       "</table>\n",
       "<p>406 rows × 1 columns</p>\n",
       "</div>"
      ],
      "text/plain": [
       "              0\n",
       "0    156.532500\n",
       "1    167.838125\n",
       "2    189.797500\n",
       "3    219.648125\n",
       "4    251.687500\n",
       "..          ...\n",
       "401    5.068125\n",
       "402   30.053750\n",
       "403   52.070625\n",
       "404   69.403125\n",
       "405   82.741875\n",
       "\n",
       "[406 rows x 1 columns]"
      ]
     },
     "execution_count": 11,
     "metadata": {},
     "output_type": "execute_result"
    }
   ],
   "source": [
    "smooth = signal.savgol_filter(pos_data, window_length=10, polyorder=2, mode=\"nearest\")\n",
    "smooth = pd.DataFrame(smooth)\n",
    "smooth"
   ]
  },
  {
   "cell_type": "code",
   "execution_count": 12,
   "id": "ec2bdb24",
   "metadata": {},
   "outputs": [
    {
     "data": {
      "text/plain": [
       "array([-0.0875 ,  0.0375 ,  0.13125,  0.19375,  0.225  ,  0.225  ,\n",
       "        0.19375,  0.13125,  0.0375 , -0.0875 ])"
      ]
     },
     "execution_count": 12,
     "metadata": {},
     "output_type": "execute_result"
    }
   ],
   "source": [
    "signal.savgol_coeffs(window_length=10, polyorder=2)"
   ]
  },
  {
   "cell_type": "code",
   "execution_count": null,
   "id": "93d6f92c",
   "metadata": {},
   "outputs": [],
   "source": []
  }
 ],
 "metadata": {
  "kernelspec": {
   "display_name": "Python 3 (ipykernel)",
   "language": "python",
   "name": "python3"
  },
  "language_info": {
   "codemirror_mode": {
    "name": "ipython",
    "version": 3
   },
   "file_extension": ".py",
   "mimetype": "text/x-python",
   "name": "python",
   "nbconvert_exporter": "python",
   "pygments_lexer": "ipython3",
   "version": "3.11.3"
  }
 },
 "nbformat": 4,
 "nbformat_minor": 5
}
